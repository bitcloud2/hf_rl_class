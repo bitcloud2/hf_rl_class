{
 "cells": [
  {
   "cell_type": "code",
   "execution_count": 1,
   "id": "c6c4123c-b1f1-48b7-9317-155b988e78c7",
   "metadata": {},
   "outputs": [
    {
     "name": "stdout",
     "output_type": "stream",
     "text": [
      "\u001b[31m\u001b[33mWARNING: Skipping torchaudio as it is not installed.\u001b[0m\u001b[33m\n",
      "\u001b[0m\u001b[0m\u001b[31m\u001b[31mERROR: pip's dependency resolver does not currently take into account all the packages that are installed. This behaviour is the source of the following dependency conflicts.\n",
      "fastai 2.7.4 requires torch<1.12,>=1.7.0, but you have torch 1.13.1+cu117 which is incompatible.\n",
      "autogluon-multimodal 0.5.0 requires torch<1.12,>=1.0, but you have torch 1.13.1+cu117 which is incompatible.\u001b[0m\u001b[31m\n",
      "\u001b[0m\u001b[0m\u001b[31m\n",
      "\u001b[1m[\u001b[0m\u001b[34;49mnotice\u001b[0m\u001b[1;39;49m]\u001b[0m\u001b[39;49m A new release of pip available: \u001b[0m\u001b[31;49m22.3.1\u001b[0m\u001b[39;49m -> \u001b[0m\u001b[32;49m23.0\u001b[0m\n",
      "\u001b[1m[\u001b[0m\u001b[34;49mnotice\u001b[0m\u001b[1;39;49m]\u001b[0m\u001b[39;49m To update, run: \u001b[0m\u001b[32;49mpip install --upgrade pip\u001b[0m\n",
      "\u001b[0m\u001b[31m\u001b[31mERROR: pip's dependency resolver does not currently take into account all the packages that are installed. This behaviour is the source of the following dependency conflicts.\n",
      "fastai 2.7.4 requires torch<1.12,>=1.7.0, but you have torch 1.13.1+cu117 which is incompatible.\u001b[0m\u001b[31m\n",
      "\u001b[0m\u001b[0m47 packages can be upgraded. Run 'apt list --upgradable' to see them.\n",
      "The following additional packages will be installed:\n",
      "  cmake-data libarchive13 libjsoncpp1 librhash0 libuv1 swig4.0\n",
      "Suggested packages:\n",
      "  cmake-doc ninja-build lrzip swig-doc swig-examples swig4.0-examples\n",
      "  swig4.0-doc\n",
      "The following NEW packages will be installed:\n",
      "  cmake cmake-data libarchive13 libjsoncpp1 librhash0 libuv1 swig swig4.0\n",
      "0 upgraded, 8 newly installed, 0 to remove and 47 not upgraded.\n",
      "Need to get 6,964 kB of archives.\n",
      "After this operation, 34.9 MB of additional disk space will be used.\n",
      "\u001b[31mdebconf: delaying package configuration, since apt-utils is not installed\n",
      "\u001b[0m\n",
      "\u001b7\u001b[0;23r\u001b8\u001b[1ASelecting previously unselected package libuv1:amd64.\n",
      "(Reading database ... 59653 files and directories currently installed.)\n",
      "Preparing to unpack .../0-libuv1_1.34.2-1ubuntu1.3_amd64.deb ...\n",
      "\u001b7\u001b[24;0f\u001b[42m\u001b[30mProgress: [  0%]\u001b[49m\u001b[39m [..........................................................] \u001b8\u001b7\u001b[24;0f\u001b[42m\u001b[30mProgress: [  3%]\u001b[49m\u001b[39m [#.........................................................] \u001b8Unpacking libuv1:amd64 (1.34.2-1ubuntu1.3) ...\n",
      "\u001b7\u001b[24;0f\u001b[42m\u001b[30mProgress: [  6%]\u001b[49m\u001b[39m [###.......................................................] \u001b8Selecting previously unselected package cmake-data.\n",
      "Preparing to unpack .../1-cmake-data_3.16.3-1ubuntu1.20.04.1_all.deb ...\n",
      "\u001b7\u001b[24;0f\u001b[42m\u001b[30mProgress: [  9%]\u001b[49m\u001b[39m [#####.....................................................] \u001b8Unpacking cmake-data (3.16.3-1ubuntu1.20.04.1) ...\n",
      "\u001b7\u001b[24;0f\u001b[42m\u001b[30mProgress: [ 12%]\u001b[49m\u001b[39m [#######...................................................] \u001b8Selecting previously unselected package libarchive13:amd64.\n",
      "Preparing to unpack .../2-libarchive13_3.4.0-2ubuntu1.2_amd64.deb ...\n",
      "\u001b7\u001b[24;0f\u001b[42m\u001b[30mProgress: [ 15%]\u001b[49m\u001b[39m [########..................................................] \u001b8Unpacking libarchive13:amd64 (3.4.0-2ubuntu1.2) ...\n",
      "\u001b7\u001b[24;0f\u001b[42m\u001b[30mProgress: [ 18%]\u001b[49m\u001b[39m [##########................................................] \u001b8Selecting previously unselected package libjsoncpp1:amd64.\n",
      "Preparing to unpack .../3-libjsoncpp1_1.7.4-3.1ubuntu2_amd64.deb ...\n",
      "\u001b7\u001b[24;0f\u001b[42m\u001b[30mProgress: [ 21%]\u001b[49m\u001b[39m [############..............................................] \u001b8Unpacking libjsoncpp1:amd64 (1.7.4-3.1ubuntu2) ...\n",
      "\u001b7\u001b[24;0f\u001b[42m\u001b[30mProgress: [ 24%]\u001b[49m\u001b[39m [##############............................................] \u001b8Selecting previously unselected package librhash0:amd64.\n",
      "Preparing to unpack .../4-librhash0_1.3.9-1_amd64.deb ...\n",
      "\u001b7\u001b[24;0f\u001b[42m\u001b[30mProgress: [ 27%]\u001b[49m\u001b[39m [###############...........................................] \u001b8Unpacking librhash0:amd64 (1.3.9-1) ...\n",
      "\u001b7\u001b[24;0f\u001b[42m\u001b[30mProgress: [ 30%]\u001b[49m\u001b[39m [#################.........................................] \u001b8Selecting previously unselected package cmake.\n",
      "Preparing to unpack .../5-cmake_3.16.3-1ubuntu1.20.04.1_amd64.deb ...\n",
      "\u001b7\u001b[24;0f\u001b[42m\u001b[30mProgress: [ 33%]\u001b[49m\u001b[39m [###################.......................................] \u001b8Unpacking cmake (3.16.3-1ubuntu1.20.04.1) ...\n",
      "\u001b7\u001b[24;0f\u001b[42m\u001b[30mProgress: [ 36%]\u001b[49m\u001b[39m [#####################.....................................] \u001b8Selecting previously unselected package swig4.0.\n",
      "Preparing to unpack .../6-swig4.0_4.0.1-5build1_amd64.deb ...\n",
      "\u001b7\u001b[24;0f\u001b[42m\u001b[30mProgress: [ 39%]\u001b[49m\u001b[39m [######################....................................] \u001b8Unpacking swig4.0 (4.0.1-5build1) ...\n",
      "\u001b7\u001b[24;0f\u001b[42m\u001b[30mProgress: [ 42%]\u001b[49m\u001b[39m [########################..................................] \u001b8Selecting previously unselected package swig.\n",
      "Preparing to unpack .../7-swig_4.0.1-5build1_all.deb ...\n",
      "\u001b7\u001b[24;0f\u001b[42m\u001b[30mProgress: [ 45%]\u001b[49m\u001b[39m [##########################................................] \u001b8Unpacking swig (4.0.1-5build1) ...\n",
      "\u001b7\u001b[24;0f\u001b[42m\u001b[30mProgress: [ 48%]\u001b[49m\u001b[39m [############################..............................] \u001b8Setting up libarchive13:amd64 (3.4.0-2ubuntu1.2) ...\n",
      "\u001b7\u001b[24;0f\u001b[42m\u001b[30mProgress: [ 52%]\u001b[49m\u001b[39m [#############################.............................] \u001b8\u001b7\u001b[24;0f\u001b[42m\u001b[30mProgress: [ 55%]\u001b[49m\u001b[39m [###############################...........................] \u001b8Setting up libuv1:amd64 (1.34.2-1ubuntu1.3) ...\n",
      "\u001b7\u001b[24;0f\u001b[42m\u001b[30mProgress: [ 58%]\u001b[49m\u001b[39m [#################################.........................] \u001b8\u001b7\u001b[24;0f\u001b[42m\u001b[30mProgress: [ 61%]\u001b[49m\u001b[39m [###################################.......................] \u001b8Setting up librhash0:amd64 (1.3.9-1) ...\n",
      "\u001b7\u001b[24;0f\u001b[42m\u001b[30mProgress: [ 64%]\u001b[49m\u001b[39m [####################################......................] \u001b8\u001b7\u001b[24;0f\u001b[42m\u001b[30mProgress: [ 67%]\u001b[49m\u001b[39m [######################################....................] \u001b8Setting up cmake-data (3.16.3-1ubuntu1.20.04.1) ...\n",
      "\u001b7\u001b[24;0f\u001b[42m\u001b[30mProgress: [ 70%]\u001b[49m\u001b[39m [########################################..................] \u001b8\u001b7\u001b[24;0f\u001b[42m\u001b[30mProgress: [ 73%]\u001b[49m\u001b[39m [##########################################................] \u001b8Setting up swig4.0 (4.0.1-5build1) ...\n",
      "\u001b7\u001b[24;0f\u001b[42m\u001b[30mProgress: [ 76%]\u001b[49m\u001b[39m [###########################################...............] \u001b8\u001b7\u001b[24;0f\u001b[42m\u001b[30mProgress: [ 79%]\u001b[49m\u001b[39m [#############################################.............] \u001b8Setting up libjsoncpp1:amd64 (1.7.4-3.1ubuntu2) ...\n",
      "\u001b7\u001b[24;0f\u001b[42m\u001b[30mProgress: [ 82%]\u001b[49m\u001b[39m [###############################################...........] \u001b8\u001b7\u001b[24;0f\u001b[42m\u001b[30mProgress: [ 85%]\u001b[49m\u001b[39m [#################################################.........] \u001b8Setting up swig (4.0.1-5build1) ...\n",
      "\u001b7\u001b[24;0f\u001b[42m\u001b[30mProgress: [ 88%]\u001b[49m\u001b[39m [##################################################........] \u001b8\u001b7\u001b[24;0f\u001b[42m\u001b[30mProgress: [ 91%]\u001b[49m\u001b[39m [####################################################......] \u001b8Setting up cmake (3.16.3-1ubuntu1.20.04.1) ...\n",
      "\u001b7\u001b[24;0f\u001b[42m\u001b[30mProgress: [ 94%]\u001b[49m\u001b[39m [######################################################....] \u001b8\u001b7\u001b[24;0f\u001b[42m\u001b[30mProgress: [ 97%]\u001b[49m\u001b[39m [########################################################..] \u001b8Processing triggers for libc-bin (2.31-0ubuntu9.9) ...\n",
      "\n",
      "\u001b7\u001b[0;24r\u001b8\u001b[1A\u001b[J"
     ]
    }
   ],
   "source": [
    "!pip uninstall -y -q torch torchvision torchaudio\n",
    "!pip install -q torch torchvision torchaudio --extra-index-url https://download.pytorch.org/whl/cu117\n",
    "\n",
    "!pip install -q --upgrade pip\n",
    "# !pip install -q metalogistic # used for some synthetic keyword stuff\n",
    "# !pip install -q gymnasium # needed for environment wrapper of synthetic keywords\n",
    "# !pip install -q gym\n",
    "\n",
    "!apt -qq update\n",
    "!apt -qq install -y swig cmake\n",
    "# Currently using nightly build until 2.3 comes out.\n",
    "# !pip install -q --upgrade \"ray[rllib]\""
   ]
  },
  {
   "cell_type": "code",
   "execution_count": 2,
   "id": "2ec542ac-ab3e-42e5-8377-3b7e2b460179",
   "metadata": {},
   "outputs": [
    {
     "name": "stdout",
     "output_type": "stream",
     "text": [
      "\u001b[31mCloning into 'ml-agents'...\n",
      "\u001b[0m\u001b[31mremote: Enumerating objects: 85459, done.\u001b[K\n",
      "\u001b[0m\u001b[31mremote: Counting objects: 100% (41/41), done.\u001b[K\n",
      "\u001b[0m\u001b[31mremote: Compressing objects: 100% (40/40), done.\u001b[K\n",
      "\u001b[0m\u001b[31mReceiving objects:  99% (84605/85459), 2.42 GiB | 29.99 MiB/s/s855/85459)\u001b[31mReceiving objects:   4% (3419/85459)\u001b[31mReceiving objects:   7% (5983/85459)\u001b[31mReceiving objects:   9% (8219/85459), 24.42 MiB | 24.42 MiB/s\u001b[31mReceiving objects:  10% (8546/85459), 24.42 MiB | 24.42 MiB/s\u001b[31mReceiving objects:  11% (9401/85459), 38.35 MiB | 25.06 MiB/s\u001b[31mReceiving objects:  11% (10143/85459), 38.35 MiB | 25.06 MiB/s\u001b[31mReceiving objects:  12% (10256/85459), 52.41 MiB | 25.81 MiB/s\u001b[31mReceiving objects:  12% (10578/85459), 65.46 MiB | 25.87 MiB/s\u001b[31mReceiving objects:  13% (11110/85459), 80.31 MiB | 26.50 MiB/s\u001b[31mReceiving objects:  14% (11965/85459), 93.87 MiB | 26.59 MiB/s\u001b[31mReceiving objects:  14% (12158/85459), 109.58 MiB | 27.19 MiB/s\u001b[31mReceiving objects:  14% (12197/85459), 124.19 MiB | 27.42 MiB/s\u001b[31mReceiving objects:  14% (12669/85459), 155.35 MiB | 28.91 MiB/s\u001b[31mReceiving objects:  16% (13674/85459), 172.05 MiB | 29.72 MiB/s\u001b[31mReceiving objects:  16% (14195/85459), 203.06 MiB | 30.59 MiB/s\u001b[31mReceiving objects:  17% (14529/85459), 214.10 MiB | 29.74 MiB/s\u001b[31mReceiving objects:  17% (14776/85459), 225.12 MiB | 29.18 MiB/s\u001b[31mReceiving objects:  18% (15383/85459), 234.38 MiB | 27.75 MiB/s\u001b[31mReceiving objects:  19% (16238/85459), 234.38 MiB | 27.75 MiB/s\u001b[31mReceiving objects:  19% (16707/85459), 234.38 MiB | 27.75 MiB/s\u001b[31mReceiving objects:  20% (17092/85459), 241.39 MiB | 26.06 MiB/s\u001b[31mReceiving objects:  21% (17947/85459), 248.49 MiB | 24.09 MiB/s\u001b[31mReceiving objects:  21% (18020/85459), 255.09 MiB | 22.17 MiB/s\u001b[31mReceiving objects:  21% (18669/85459), 263.34 MiB | 20.29 MiB/s\u001b[31mReceiving objects:  22% (18801/85459), 270.94 MiB | 18.35 MiB/s\u001b[31mReceiving objects:  22% (19418/85459), 286.47 MiB | 16.09 MiB/s\u001b[31mReceiving objects:  23% (19656/85459), 296.34 MiB | 15.83 MiB/s\u001b[31mReceiving objects:  23% (20224/85459), 296.34 MiB | 15.83 MiB/s\u001b[31mReceiving objects:  24% (20511/85459), 304.81 MiB | 15.65 MiB/s\u001b[31mReceiving objects:  26% (22220/85459), 304.81 MiB | 15.65 MiB/s\u001b[31mReceiving objects:  26% (22871/85459), 316.00 MiB | 16.58 MiB/s\u001b[31mReceiving objects:  26% (22894/85459), 354.54 MiB | 20.27 MiB/s\u001b[31mReceiving objects:  26% (22913/85459), 375.70 MiB | 21.70 MiB/s\u001b[31mReceiving objects:  27% (23074/85459), 375.70 MiB | 21.70 MiB/s\u001b[31mReceiving objects:  27% (23211/85459), 402.07 MiB | 23.49 MiB/s\u001b[31mReceiving objects:  27% (23211/85459), 427.85 MiB | 24.86 MiB/s\u001b[31mReceiving objects:  28% (23929/85459), 442.07 MiB | 25.30 MiB/s\u001b[31mReceiving objects:  28% (24471/85459), 442.07 MiB | 25.30 MiB/s\u001b[31mReceiving objects:  29% (24784/85459), 470.69 MiB | 25.63 MiB/s\u001b[31mReceiving objects:  29% (25415/85459), 470.69 MiB | 25.63 MiB/s\u001b[31mReceiving objects:  30% (25638/85459), 503.11 MiB | 27.89 MiB/s\u001b[31mReceiving objects:  30% (26115/85459), 503.11 MiB | 27.89 MiB/s\u001b[31mReceiving objects:  31% (26493/85459), 517.86 MiB | 28.18 MiB/s\u001b[31mReceiving objects:  31% (27147/85459), 534.23 MiB | 28.92 MiB/s\u001b[31mReceiving objects:  32% (27347/85459), 550.01 MiB | 29.48 MiB/s\u001b[31mReceiving objects:  32% (27560/85459), 567.45 MiB | 30.49 MiB/s\u001b[31mReceiving objects:  32% (27886/85459), 600.70 MiB | 31.61 MiB/s\u001b[31mReceiving objects:  32% (27913/85459), 634.73 MiB | 32.80 MiB/s\u001b[31mReceiving objects:  32% (27938/85459), 668.92 MiB | 33.51 MiB/s\u001b[31mReceiving objects:  32% (27966/85459), 703.07 MiB | 34.02 MiB/s\u001b[31mReceiving objects:  32% (27995/85459), 736.97 MiB | 34.21 MiB/s\u001b[31mReceiving objects:  33% (28202/85459), 754.12 MiB | 34.06 MiB/s\u001b[31mReceiving objects:  33% (28246/85459), 788.70 MiB | 34.18 MiB/s\u001b[31mReceiving objects:  33% (28249/85459), 823.21 MiB | 34.25 MiB/s\u001b[31mReceiving objects:  33% (28249/85459), 855.33 MiB | 33.79 MiB/s\u001b[31mReceiving objects:  33% (28252/85459), 881.64 MiB | 31.86 MiB/s\u001b[31mReceiving objects:  33% (28252/85459), 909.41 MiB | 30.27 MiB/s\u001b[31mReceiving objects:  33% (28268/85459), 938.88 MiB | 29.29 MiB/s\u001b[31mReceiving objects:  33% (28268/85459), 969.92 MiB | 28.60 MiB/s\u001b[31mReceiving objects:  34% (29057/85459), 981.74 MiB | 27.66 MiB/s\u001b[31mReceiving objects:  35% (29911/85459), 981.74 MiB | 27.66 MiB/s\u001b[31mReceiving objects:  35% (30004/85459), 981.74 MiB | 27.66 MiB/s\u001b[31mReceiving objects:  35% (30010/85459), 1007.08 MiB | 27.21 MiB/s\u001b[31mReceiving objects:  36% (30766/85459), 1.00 GiB | 26.64 MiB/s   \u001b[31mReceiving objects:  36% (30798/85459), 1.02 GiB | 26.00 MiB/s\u001b[31mReceiving objects:  36% (30798/85459), 1.04 GiB | 25.24 MiB/s\u001b[31mReceiving objects:  36% (30798/85459), 1.07 GiB | 25.12 MiB/s\u001b[31mReceiving objects:  37% (31620/85459), 1.07 GiB | 25.12 MiB/s\u001b[31mReceiving objects:  37% (31725/85459), 1.08 GiB | 25.66 MiB/s\u001b[31mReceiving objects:  38% (32475/85459), 1.08 GiB | 25.66 MiB/s\u001b[31mReceiving objects:  39% (33330/85459), 1.09 GiB | 25.92 MiB/s\u001b[31mReceiving objects:  39% (33877/85459), 1.11 GiB | 26.20 MiB/s\u001b[31mReceiving objects:  40% (34184/85459), 1.12 GiB | 26.31 MiB/s\u001b[31mReceiving objects:  40% (34758/85459), 1.13 GiB | 26.57 MiB/s\u001b[31mReceiving objects:  41% (35039/85459), 1.15 GiB | 26.65 MiB/s\u001b[31mReceiving objects:  41% (35091/85459), 1.16 GiB | 26.65 MiB/s\u001b[31mReceiving objects:  41% (35132/85459), 1.19 GiB | 27.03 MiB/s\u001b[31mReceiving objects:  41% (35403/85459), 1.21 GiB | 26.91 MiB/s\u001b[31mReceiving objects:  41% (35564/85459), 1.24 GiB | 26.95 MiB/s\u001b[31mReceiving objects:  41% (35719/85459), 1.27 GiB | 26.96 MiB/s\u001b[31mReceiving objects:  42% (35893/85459), 1.27 GiB | 26.96 MiB/s\u001b[31mReceiving objects:  43% (36748/85459), 1.28 GiB | 27.18 MiB/s\u001b[31mReceiving objects:  44% (37602/85459), 1.28 GiB | 27.18 MiB/s\u001b[31mReceiving objects:  44% (37850/85459), 1.29 GiB | 27.03 MiB/s\u001b[31mReceiving objects:  44% (37868/85459), 1.32 GiB | 27.42 MiB/s\u001b[31mReceiving objects:  45% (38457/85459), 1.32 GiB | 27.42 MiB/s\u001b[31mReceiving objects:  46% (39430/85459), 1.35 GiB | 27.73 MiB/s\u001b[31mReceiving objects:  47% (40166/85459), 1.36 GiB | 28.08 MiB/s\u001b[31mReceiving objects:  48% (41021/85459), 1.38 GiB | 28.24 MiB/s\u001b[31mReceiving objects:  48% (41277/85459), 1.38 GiB | 28.24 MiB/s\u001b[31mReceiving objects:  49% (41875/85459), 1.39 GiB | 28.46 MiB/s\u001b[31mReceiving objects:  50% (42730/85459), 1.39 GiB | 28.46 MiB/s\u001b[31mReceiving objects:  50% (43183/85459), 1.40 GiB | 28.31 MiB/s\u001b[31mReceiving objects:  52% (44439/85459), 1.40 GiB | 28.31 MiB/s\u001b[31mReceiving objects:  53% (45294/85459), 1.40 GiB | 28.31 MiB/s\u001b[31mReceiving objects:  54% (46356/85459), 1.42 GiB | 25.23 MiB/s\u001b[31mReceiving objects:  54% (46589/85459), 1.43 GiB | 22.25 MiB/s\u001b[31mReceiving objects:  54% (46617/85459), 1.45 GiB | 19.64 MiB/s\u001b[31mReceiving objects:  54% (46622/85459), 1.47 GiB | 17.47 MiB/s\u001b[31mReceiving objects:  54% (46626/85459), 1.50 GiB | 17.74 MiB/s\u001b[31mReceiving objects:  54% (46659/85459), 1.51 GiB | 18.42 MiB/s\u001b[31mReceiving objects:  54% (46664/85459), 1.52 GiB | 18.00 MiB/s\u001b[31mReceiving objects:  54% (46666/85459), 1.54 GiB | 17.11 MiB/s\u001b[31mReceiving objects:  54% (46669/85459), 1.55 GiB | 16.12 MiB/s\u001b[31mReceiving objects:  54% (46698/85459), 1.57 GiB | 15.41 MiB/s\u001b[31mReceiving objects:  54% (46700/85459), 1.58 GiB | 15.25 MiB/s\u001b[31mReceiving objects:  54% (46707/85459), 1.60 GiB | 15.38 MiB/s\u001b[31mReceiving objects:  54% (46710/85459), 1.61 GiB | 14.72 MiB/s\u001b[31mReceiving objects:  54% (46713/85459), 1.62 GiB | 13.27 MiB/s\u001b[31mReceiving objects:  54% (46713/85459), 1.62 GiB | 11.29 MiB/s\u001b[31mReceiving objects:  54% (46716/85459), 1.63 GiB | 9.32 MiB/s \u001b[31mReceiving objects:  54% (46716/85459), 1.64 GiB | 8.17 MiB/s\u001b[31mReceiving objects:  54% (46719/85459), 1.65 GiB | 7.38 MiB/s\u001b[31mReceiving objects:  54% (46725/85459), 1.65 GiB | 7.48 MiB/s\u001b[31mReceiving objects:  54% (46725/85459), 1.66 GiB | 7.65 MiB/s\u001b[31mReceiving objects:  54% (46728/85459), 1.67 GiB | 7.69 MiB/s\u001b[31mReceiving objects:  54% (46731/85459), 1.68 GiB | 7.44 MiB/s\u001b[31mReceiving objects:  54% (46731/85459), 1.68 GiB | 7.17 MiB/s\u001b[31mReceiving objects:  54% (46734/85459), 1.69 GiB | 6.97 MiB/s\u001b[31mReceiving objects:  54% (46734/85459), 1.70 GiB | 6.92 MiB/s\u001b[31mReceiving objects:  54% (46737/85459), 1.70 GiB | 6.91 MiB/s\u001b[31mReceiving objects:  54% (46740/85459), 1.71 GiB | 7.34 MiB/s\u001b[31mReceiving objects:  54% (46740/85459), 1.72 GiB | 7.60 MiB/s\u001b[31mReceiving objects:  54% (46761/85459), 1.72 GiB | 7.64 MiB/s\u001b[31mReceiving objects:  54% (46761/85459), 1.73 GiB | 7.78 MiB/s\u001b[31mReceiving objects:  54% (46765/85459), 1.74 GiB | 7.80 MiB/s\u001b[31mReceiving objects:  54% (46765/85459), 1.75 GiB | 7.87 MiB/s\u001b[31mReceiving objects:  54% (46767/85459), 1.76 GiB | 7.97 MiB/s\u001b[31mReceiving objects:  54% (46767/85459), 1.77 GiB | 8.16 MiB/s\u001b[31mReceiving objects:  54% (46771/85459), 1.77 GiB | 8.46 MiB/s\u001b[31mReceiving objects:  54% (46799/85459), 1.78 GiB | 8.73 MiB/s\u001b[31mReceiving objects:  54% (46799/85459), 1.80 GiB | 9.59 MiB/s\u001b[31mReceiving objects:  54% (46802/85459), 1.81 GiB | 10.63 MiB/s\u001b[31mReceiving objects:  54% (46805/85459), 1.82 GiB | 11.99 MiB/s\u001b[31mReceiving objects:  54% (46807/85459), 1.84 GiB | 12.67 MiB/s\u001b[31mReceiving objects:  55% (47003/85459), 1.84 GiB | 12.67 MiB/s\u001b[31mReceiving objects:  55% (47583/85459), 1.84 GiB | 13.04 MiB/s\u001b[31mReceiving objects:  55% (47647/85459), 1.86 GiB | 13.65 MiB/s\u001b[31mReceiving objects:  55% (47691/85459), 1.87 GiB | 14.10 MiB/s\u001b[31mReceiving objects:  56% (47858/85459), 1.87 GiB | 14.10 MiB/s\u001b[31mReceiving objects:  57% (48712/85459), 1.88 GiB | 14.07 MiB/s\u001b[31mReceiving objects:  57% (48933/85459), 1.89 GiB | 14.20 MiB/s\u001b[31mReceiving objects:  57% (48959/85459), 1.90 GiB | 14.98 MiB/s\u001b[31mReceiving objects:  57% (48988/85459), 1.92 GiB | 15.64 MiB/s\u001b[31mReceiving objects:  58% (49567/85459), 1.93 GiB | 15.82 MiB/s\u001b[31mReceiving objects:  61% (52270/85459), 1.93 GiB | 16.16 MiB/s\u001b[31mReceiving objects:  61% (52312/85459), 1.95 GiB | 16.40 MiB/s\u001b[31mReceiving objects:  61% (52331/85459), 1.97 GiB | 16.59 MiB/s\u001b[31mReceiving objects:  61% (52760/85459), 1.98 GiB | 16.11 MiB/s\u001b[31mReceiving objects:  61% (52843/85459), 1.99 GiB | 15.28 MiB/s\u001b[31mReceiving objects:  61% (52903/85459), 2.01 GiB | 14.68 MiB/s\u001b[31mReceiving objects:  62% (52985/85459), 2.01 GiB | 14.57 MiB/s\u001b[31mReceiving objects:  64% (54694/85459), 2.01 GiB | 14.57 MiB/s\u001b[31mReceiving objects:  65% (55549/85459), 2.01 GiB | 14.57 MiB/s\u001b[31mReceiving objects:  65% (55604/85459), 2.02 GiB | 14.39 MiB/s\u001b[31mReceiving objects:  65% (55622/85459), 2.04 GiB | 14.58 MiB/s\u001b[31mReceiving objects:  65% (55640/85459), 2.05 GiB | 15.15 MiB/s\u001b[31mReceiving objects:  65% (55656/85459), 2.07 GiB | 15.77 MiB/s\u001b[31mReceiving objects:  65% (55732/85459), 2.09 GiB | 16.18 MiB/s\u001b[31mReceiving objects:  65% (55995/85459), 2.10 GiB | 16.41 MiB/s\u001b[31mReceiving objects:  65% (56008/85459), 2.12 GiB | 16.59 MiB/s\u001b[31mReceiving objects:  66% (56403/85459), 2.13 GiB | 16.63 MiB/s\u001b[31mReceiving objects:  68% (58113/85459), 2.13 GiB | 16.63 MiB/s\u001b[31mReceiving objects:  68% (58298/85459), 2.14 GiB | 16.65 MiB/s\u001b[31mReceiving objects:  69% (58967/85459), 2.14 GiB | 16.65 MiB/s\u001b[31mReceiving objects:  70% (59822/85459), 2.15 GiB | 16.70 MiB/s\u001b[31mReceiving objects:  70% (60014/85459), 2.15 GiB | 16.70 MiB/s\u001b[31mReceiving objects:  70% (60213/85459), 2.17 GiB | 16.77 MiB/s\u001b[31mReceiving objects:  70% (60425/85459), 2.19 GiB | 16.92 MiB/s\u001b[31mReceiving objects:  71% (60676/85459), 2.19 GiB | 16.94 MiB/s\u001b[31mReceiving objects:  71% (60781/85459), 2.20 GiB | 17.12 MiB/s\u001b[31mReceiving objects:  72% (61531/85459), 2.20 GiB | 17.12 MiB/s\u001b[31mReceiving objects:  72% (62200/85459), 2.22 GiB | 17.42 MiB/s\u001b[31mReceiving objects:  73% (62386/85459), 2.23 GiB | 17.64 MiB/s\u001b[31mReceiving objects:  74% (63240/85459), 2.23 GiB | 17.64 MiB/s\u001b[31mReceiving objects:  75% (64095/85459), 2.24 GiB | 17.93 MiB/s\u001b[31mReceiving objects:  75% (64155/85459), 2.24 GiB | 17.93 MiB/s\u001b[31mReceiving objects:  75% (64652/85459), 2.26 GiB | 18.65 MiB/s\u001b[31mReceiving objects:  76% (64949/85459), 2.26 GiB | 18.65 MiB/s\u001b[31mReceiving objects:  76% (65126/85459), 2.28 GiB | 19.59 MiB/s\u001b[31mReceiving objects:  77% (65804/85459), 2.30 GiB | 20.84 MiB/s\u001b[31mReceiving objects:  77% (66149/85459), 2.30 GiB | 20.84 MiB/s\u001b[31mReceiving objects:  78% (66659/85459), 2.30 GiB | 20.84 MiB/s\u001b[31mReceiving objects:  79% (67513/85459), 2.32 GiB | 21.82 MiB/s\u001b[31mReceiving objects:  80% (68986/85459), 2.33 GiB | 22.49 MiB/s\u001b[31mReceiving objects:  82% (70077/85459), 2.33 GiB | 22.49 MiB/s\u001b[31mReceiving objects:  83% (70931/85459), 2.34 GiB | 23.70 MiB/s\u001b[31mReceiving objects:  84% (71786/85459), 2.34 GiB | 23.70 MiB/s\u001b[31mReceiving objects:  85% (73102/85459), 2.36 GiB | 24.56 MiB/s\u001b[31mReceiving objects:  86% (73495/85459), 2.37 GiB | 25.88 MiB/s\u001b[31mReceiving objects:  87% (74350/85459), 2.37 GiB | 25.88 MiB/s\u001b[31mReceiving objects:  87% (74916/85459), 2.39 GiB | 27.02 MiB/s\u001b[31mReceiving objects:  89% (76059/85459), 2.39 GiB | 27.02 MiB/s\u001b[31mReceiving objects:  90% (76914/85459), 2.39 GiB | 27.02 MiB/s\u001b[31mReceiving objects:  91% (77768/85459), 2.41 GiB | 28.77 MiB/s\u001b[31mReceiving objects:  94% (80332/85459), 2.41 GiB | 28.77 MiB/s\u001b[31mReceiving objects:  95% (81187/85459), 2.41 GiB | 28.77 MiB/s\u001b[31mReceiving objects:  96% (82041/85459), 2.42 GiB | 29.99 MiB/s\u001b[31mReceiving objects:  97% (82896/85459), 2.42 GiB | 29.99 MiB/s\u001b[31mReceiving objects:  98% (83750/85459), 2.42 GiB | 29.99 MiB/s\u001b[31mReceiving objects:  99% (85127/85459), 2.42 GiB | 29.99 MiB/s\u001b[31mReceiving objects:  99% (85348/85459), 2.46 GiB | 32.09 MiB/s\u001b[31mremote: Total 85459 (delta 16), reused 5 (delta 0), pack-reused 85418\u001b[K\n",
      "\u001b[0m\u001b[31mReceiving objects: 100% (85459/85459), 2.48 GiB | 19.97 MiB/s, done.\n",
      "\u001b[0m\u001b[31mResolving deltas: 100% (62408/62408), done.lving deltas:   2% (1249/62408)\u001b[31mResolving deltas:   7% (4388/62408)\u001b[31mResolving deltas:  14% (8741/62408)\u001b[31mResolving deltas:  20% (12572/62408)\u001b[31mResolving deltas:  23% (14445/62408)\u001b[31mResolving deltas:  24% (14989/62408)\u001b[31mResolving deltas:  32% (19976/62408)\u001b[31mResolving deltas:  36% (22597/62408)\u001b[31mResolving deltas:  43% (26857/62408)\u001b[31mResolving deltas:  53% (33204/62408)\u001b[31mResolving deltas:  57% (35609/62408)\u001b[31mResolving deltas:  66% (41258/62408)\u001b[31mResolving deltas:  67% (41929/62408)\u001b[31mResolving deltas:  68% (42620/62408)\u001b[31mResolving deltas:  69% (43118/62408)\u001b[31mResolving deltas:  70% (43720/62408)\u001b[31mResolving deltas:  71% (44310/62408)\u001b[31mResolving deltas:  75% (46812/62408)\u001b[31mResolving deltas:  75% (47348/62408)\u001b[31mResolving deltas:  79% (49537/62408)\u001b[31mResolving deltas:  85% (53056/62408)\u001b[31mResolving deltas:  86% (54169/62408)\u001b[31mResolving deltas:  89% (55832/62408)\u001b[31mResolving deltas:  93% (58040/62408)\u001b[31mResolving deltas: 100% (62408/62408)\n",
      "\u001b[0m"
     ]
    }
   ],
   "source": [
    "!git clone --branch aivsai https://github.com/huggingface/ml-agents"
   ]
  },
  {
   "cell_type": "code",
   "execution_count": 8,
   "id": "b18b470a-0c8b-42d2-a63d-2eb8531a4c50",
   "metadata": {},
   "outputs": [
    {
     "name": "stdout",
     "output_type": "stream",
     "text": [
      "Obtaining file:///OpenMail/hf_rl_class/unit7/ml-agents/ml-agents-envs\n",
      "  Preparing metadata (setup.py) ... \u001b[?25ldone\n",
      "\u001b[?25hRequirement already satisfied: cloudpickle in /datasci/lib/python3.8/site-packages (from mlagents-envs==0.31.0.dev0) (2.1.0)\n",
      "Requirement already satisfied: grpcio>=1.11.0 in /datasci/lib/python3.8/site-packages (from mlagents-envs==0.31.0.dev0) (1.43.0)\n",
      "Requirement already satisfied: numpy>=1.14.1 in /datasci/lib/python3.8/site-packages (from mlagents-envs==0.31.0.dev0) (1.22.4)\n",
      "Requirement already satisfied: Pillow>=4.2.1 in /datasci/lib/python3.8/site-packages (from mlagents-envs==0.31.0.dev0) (9.0.1)\n",
      "Requirement already satisfied: protobuf>=3.6 in /datasci/lib/python3.8/site-packages (from mlagents-envs==0.31.0.dev0) (3.18.1)\n",
      "Requirement already satisfied: pyyaml>=3.1.0 in /datasci/lib/python3.8/site-packages (from mlagents-envs==0.31.0.dev0) (5.4.1)\n",
      "Collecting gym>=0.21.0\n",
      "  Downloading gym-0.26.2.tar.gz (721 kB)\n",
      "\u001b[2K     \u001b[90m━━━━━━━━━━━━━━━━━━━━━━━━━━━━━━━━━━━━━━\u001b[0m \u001b[32m721.7/721.7 kB\u001b[0m \u001b[31m22.2 MB/s\u001b[0m eta \u001b[36m0:00:00\u001b[0m\n",
      "\u001b[?25h  Installing build dependencies ... \u001b[?25ldone\n",
      "\u001b[?25h  Getting requirements to build wheel ... \u001b[?25ldone\n",
      "\u001b[?25h  Preparing metadata (pyproject.toml) ... \u001b[?25ldone\n",
      "\u001b[?25hCollecting pettingzoo==1.15.0\n",
      "  Downloading PettingZoo-1.15.0.tar.gz (756 kB)\n",
      "\u001b[2K     \u001b[90m━━━━━━━━━━━━━━━━━━━━━━━━━━━━━━━━━━━━━━\u001b[0m \u001b[32m756.7/756.7 kB\u001b[0m \u001b[31m80.2 MB/s\u001b[0m eta \u001b[36m0:00:00\u001b[0m\n",
      "\u001b[?25h  Preparing metadata (setup.py) ... \u001b[?25ldone\n",
      "\u001b[?25hCollecting numpy>=1.14.1\n",
      "  Downloading numpy-1.21.2-cp38-cp38-manylinux_2_12_x86_64.manylinux2010_x86_64.whl (15.8 MB)\n",
      "\u001b[2K     \u001b[90m━━━━━━━━━━━━━━━━━━━━━━━━━━━━━━━━━━━━━━━\u001b[0m \u001b[32m15.8/15.8 MB\u001b[0m \u001b[31m119.1 MB/s\u001b[0m eta \u001b[36m0:00:00\u001b[0m00:01\u001b[0m00:01\u001b[0m\n",
      "\u001b[?25hRequirement already satisfied: filelock>=3.4.0 in /datasci/lib/python3.8/site-packages (from mlagents-envs==0.31.0.dev0) (3.7.1)\n",
      "\u001b[31m\u001b[31mERROR: Package 'mlagents-envs' requires a different Python: 3.8.10 not in '<=3.10.8,>=3.8.13'\u001b[0m\u001b[31m\n",
      "\u001b[0m\u001b[0mObtaining file:///OpenMail/hf_rl_class/unit7/ml-agents/ml-agents\n",
      "  Preparing metadata (setup.py) ... \u001b[?25ldone\n",
      "\u001b[?25hRequirement already satisfied: grpcio>=1.11.0 in /datasci/lib/python3.8/site-packages (from mlagents==0.31.0.dev0) (1.43.0)\n",
      "Collecting h5py>=2.9.0\n",
      "  Downloading h5py-3.8.0-cp38-cp38-manylinux_2_17_x86_64.manylinux2014_x86_64.whl (4.7 MB)\n",
      "\u001b[2K     \u001b[90m━━━━━━━━━━━━━━━━━━━━━━━━━━━━━━━━━━━━━━━━\u001b[0m \u001b[32m4.7/4.7 MB\u001b[0m \u001b[31m61.9 MB/s\u001b[0m eta \u001b[36m0:00:00\u001b[0m00:01\u001b[0m00:01\u001b[0m\n",
      "\u001b[?25h\u001b[31m\u001b[31mERROR: Ignored the following versions that require a different python version: 0.10.0.dev0 Requires-Python >=3.5,<3.8; 0.30.0 Requires-Python >=3.8.13,<=3.10.8; 0.6.0 Requires-Python >=3.5,<=3.7; 0.6.1 Requires-Python >=3.5,<=3.7; 0.6.2 Requires-Python >=3.5,<=3.7; 0.8.0 Requires-Python >=3.5,<3.8; 0.8.1 Requires-Python >=3.5,<3.8; 0.8.2 Requires-Python >=3.5,<3.8; 0.9.0 Requires-Python >=3.5,<3.8; 0.9.1 Requires-Python >=3.5,<3.8; 0.9.2 Requires-Python >=3.5,<3.8; 0.9.3 Requires-Python >=3.5,<3.8\u001b[0m\u001b[31m\n",
      "\u001b[0m\u001b[0m\u001b[31m\u001b[31mERROR: Could not find a version that satisfies the requirement mlagents_envs==0.31.0.dev0 (from mlagents) (from versions: 0.10.0.dev1, 0.10.0, 0.10.1, 0.11.0.dev0, 0.11.0, 0.12.0, 0.12.1, 0.13.0, 0.13.1, 0.14.0, 0.14.1, 0.15.0, 0.15.1, 0.16.0, 0.16.1, 0.17.0, 0.18.0, 0.18.1, 0.19.0, 0.20.0, 0.21.0, 0.21.1, 0.22.0, 0.23.0, 0.24.0, 0.24.1, 0.25.0, 0.25.1, 0.26.0, 0.27.0, 0.28.0, 0.29.0)\u001b[0m\u001b[31m\n",
      "\u001b[0m\u001b[0m\u001b[31m\u001b[31mERROR: No matching distribution found for mlagents_envs==0.31.0.dev0\u001b[0m\u001b[31m\n",
      "\u001b[0m\u001b[0m"
     ]
    }
   ],
   "source": [
    "# !cd ml-agents\n",
    "!pip install -e ml-agents/ml-agents-envs\n",
    "!pip install -e ml-agents/ml-agents"
   ]
  },
  {
   "cell_type": "code",
   "execution_count": null,
   "id": "12e0658f-352a-4f63-99c8-d5b2bd9082fd",
   "metadata": {},
   "outputs": [],
   "source": []
  }
 ],
 "metadata": {
  "kernelspec": {
   "display_name": "Python 3 (ipykernel)",
   "language": "python",
   "name": "python3"
  },
  "language_info": {
   "codemirror_mode": {
    "name": "ipython",
    "version": 3
   },
   "file_extension": ".py",
   "mimetype": "text/x-python",
   "name": "python",
   "nbconvert_exporter": "python",
   "pygments_lexer": "ipython3",
   "version": "3.8.10"
  }
 },
 "nbformat": 4,
 "nbformat_minor": 5
}
